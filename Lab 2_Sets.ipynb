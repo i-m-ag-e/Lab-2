{
 "cells": [
  {
   "metadata": {
    "ExecuteTime": {
     "end_time": "2025-01-28T14:40:23.927476Z",
     "start_time": "2025-01-28T14:40:23.917034Z"
    }
   },
   "cell_type": "code",
   "source": [
    "import pandas as pd\n",
    "import numpy as np\n",
    "import matplotlib.pyplot as plt\n",
    "import seaborn as sns\n",
    "import warnings\n",
    "warnings.filterwarnings('ignore')\n",
    "%config inlineBackend.figure_format = 'retina'"
   ],
   "id": "8a30a4f8531e45c0",
   "outputs": [],
   "execution_count": 1
  },
  {
   "metadata": {},
   "cell_type": "markdown",
   "source": [
    "# Set Theory\n",
    "### Question 1: Function to Check Partition\n",
    "Write a Python function to check if a given list of sets is a partition of a universal set. The function should take the universal set and the list of sets as arguments and verify the following conditions:\n",
    "1. The union of all subsets in the list equals the universal set.\n",
    "2. The subsets are pairwise disjoint.\n",
    "\n",
    "Write your function and test it with an example."
   ],
   "id": "b40df6f298a9955a"
  },
  {
   "metadata": {
    "ExecuteTime": {
     "end_time": "2025-01-28T15:01:51.625154Z",
     "start_time": "2025-01-28T15:01:51.610104Z"
    }
   },
   "cell_type": "code",
   "source": [
    "def check_partition(universal_set, subsets):\n",
    "    subset_union = set().union(*subsets)\n",
    "    visited_elements = set()\n",
    "\n",
    "    if subset_union != universal_set:\n",
    "        return False\n",
    "\n",
    "    for subset in subsets:\n",
    "        for element in subset:\n",
    "            if element in visited_elements:\n",
    "                return False\n",
    "            visited_elements.add(element)\n",
    "\n",
    "    return True\n",
    "\n",
    "universal_set = {1, 7, 9, 8, 4, 5, 20, 30, -1, -45, -34, -4, 23, 10}\n",
    "subset1 = {1, -1, -4}\n",
    "subset2 = {7, 20, -45, -34}\n",
    "subset3 = {9, 5}\n",
    "subset4 = {8, 4, 23}\n",
    "subset5 = {30, 10}\n",
    "\n",
    "subsets = [subset1, subset2, subset3, subset4, subset5]\n",
    "\n",
    "print(check_partition(universal_set, subsets))"
   ],
   "id": "850a3c0d0c7eece",
   "outputs": [
    {
     "name": "stdout",
     "output_type": "stream",
     "text": [
      "True\n"
     ]
    }
   ],
   "execution_count": 12
  },
  {
   "metadata": {},
   "cell_type": "markdown",
   "source": [
    "### Question 2: Laws\n",
    "With an example numpy array corresponding to set A, B, C, show the distributive properties and De Morgan's Laws. Also, use `venn3` from `matplotlib_venn` library for vizualization."
   ],
   "id": "98a25f1a7d825ba1"
  },
  {
   "metadata": {
    "ExecuteTime": {
     "end_time": "2025-01-28T14:52:48.126836Z",
     "start_time": "2025-01-28T14:52:47.962165Z"
    }
   },
   "cell_type": "code",
   "source": [
    "from matplotlib_venn import venn3\n",
    "\n",
    "universe = np.arange(1, 41)\n",
    "A = np.arange(1, 11)\n",
    "B = np.arange(2, 30, 3)\n",
    "C = np.arange(4, 41, 4)\n",
    "\n",
    "B_inter_C = np.intersect1d(B, C)\n",
    "lhs1 = np.union1d(A, B_inter_C)\n",
    "\n",
    "A_union_B = np.union1d(A, B)\n",
    "A_union_C = np.union1d(A, C)\n",
    "rhs1 = np.intersect1d(A_union_B, A_union_C)\n",
    "\n",
    "print(\"Distributive Law 1 - A ∪ (B ∩ C) = (A ∪ B) ∩ (A ∪ C):\", np.array_equal(lhs1, rhs1))\n",
    "\n",
    "B_union_C = np.union1d(B, C)\n",
    "lhs2 = np.intersect1d(A, B_union_C)\n",
    "\n",
    "A_inter_B = np.intersect1d(A, B)\n",
    "A_inter_C = np.intersect1d(A, C)\n",
    "rhs2 = np.union1d(A_inter_B, A_inter_C)\n",
    "\n",
    "print(\"Distributive Law 2 - A ∩ (B ∪ C) = (A ∩ B) ∪ (A ∩ C):\", np.array_equal(lhs2, rhs2))\n",
    "\n",
    "A_union_B = np.union1d(A, B)\n",
    "complement_A_union_B = np.setdiff1d(universe, A_union_B)\n",
    "\n",
    "complement_A = np.setdiff1d(universe, A)\n",
    "complement_B = np.setdiff1d(universe, B)\n",
    "right_dm1 = np.intersect1d(complement_A, complement_B)\n",
    "\n",
    "print(\"De Morgan's First Law - (A ∪ B)' = A' ∩ B':\", np.array_equal(complement_A_union_B, right_dm1))\n",
    "\n",
    "A_inter_B = np.intersect1d(A, B)\n",
    "complement_A_inter_B = np.setdiff1d(universe, A_inter_B)\n",
    "\n",
    "complement_A = np.setdiff1d(universe, A)\n",
    "complement_B = np.setdiff1d(universe, B)\n",
    "right_dm2 = np.union1d(complement_A, complement_B)\n",
    "\n",
    "print(\"De Morgan's Second Law - (A ∩ B)' = A' ∪ B':\", np.array_equal(complement_A_inter_B, right_dm2))\n",
    "\n",
    "v = venn3([set(A), set(B), set(C)], ['A', 'B', 'C'])\n",
    "v.get_label_by_id('100').set_text('Only A')\n",
    "v.get_label_by_id('010').set_text('Only B')\n",
    "v.get_label_by_id('001').set_text('Only C')\n",
    "v.get_label_by_id('110').set_text(r'$A \\cap B$')\n",
    "v.get_label_by_id('101').set_text(r'$A \\cap C$')\n",
    "v.get_label_by_id('011').set_text(r'$B \\cap C$')\n",
    "v.get_label_by_id('111').set_text(r'$A \\cap B \\cap C$')"
   ],
   "id": "b4107bb62f8e1169",
   "outputs": [
    {
     "name": "stdout",
     "output_type": "stream",
     "text": [
      "Distributive Law 1 - A ∪ (B ∩ C) = (A ∪ B) ∩ (A ∪ C): True\n",
      "Distributive Law 2 - A ∩ (B ∪ C) = (A ∩ B) ∪ (A ∩ C): True\n",
      "De Morgan's First Law - (A ∪ B)' = A' ∩ B': True\n",
      "De Morgan's Second Law - (A ∩ B)' = A' ∪ B': True\n"
     ]
    },
    {
     "data": {
      "text/plain": [
       "<Figure size 640x480 with 1 Axes>"
      ],
      "image/png": "[encoded data removed]"
     },
     "metadata": {},
     "output_type": "display_data"
    }
   ],
   "execution_count": 8
  },
  {
   "metadata": {},
   "cell_type": "markdown",
   "source": [
    "### Question 3: Union and Intersection of Students\n",
    "For below code:\n",
    "1. The union of all sets of students present across the three subjects.\n",
    "2. The intersection of all sets of students present across the three subjects.\n",
    "\n",
    "```python\n",
    "import pandas as pd\n",
    "# Dictionary of marks\n",
    "marks = {\n",
    "    \"Math\": {\"Alice\": 85, \"Bob\": 90, \"Charlie\": 78},\n",
    "    \"Physics\": {\"Bob\": 88, \"Charlie\": 92, \"David\": 75},\n",
    "    \"Chemistry\": {\"Alice\": 82, \"Charlie\": 80, \"Eve\": 91},\n",
    "}\n",
    "\n",
    "\n",
    "# Convert the dictionary to a DataFrame\n",
    "df = pd.DataFrame(marks).T\n",
    "```"
   ],
   "id": "f3c784c208ec0b68"
  },
  {
   "metadata": {
    "ExecuteTime": {
     "end_time": "2025-01-28T15:00:01.729756Z",
     "start_time": "2025-01-28T15:00:01.717753Z"
    }
   },
   "cell_type": "code",
   "source": [
    "marks = {\n",
    "    \"Math\": {\"Alice\": 85, \"Bob\": 90, \"Charlie\": 78},\n",
    "    \"Physics\": {\"Bob\": 88, \"Charlie\": 92, \"David\": 75},\n",
    "    \"Chemistry\": {\"Alice\": 82, \"Charlie\": 80, \"Eve\": 91},\n",
    "}\n",
    "\n",
    "df = pd.DataFrame(marks).T\n",
    "\n",
    "math_students = set(df.columns[df.loc[\"Math\"].notna()])\n",
    "physics_students = set(df.columns[df.loc[\"Physics\"].notna()])\n",
    "chem_students = set(df.columns[df.loc[\"Chemistry\"].notna()])\n",
    "\n",
    "all_students = math_students | physics_students | chem_students\n",
    "students_intersection = math_students & physics_students & chem_students\n",
    "\n",
    "print(f\"Set of all students: {all_students}\")\n",
    "print(f\"Intersection of students present across all subjects: {students_intersection}\")"
   ],
   "id": "808456c24d80a7db",
   "outputs": [
    {
     "name": "stdout",
     "output_type": "stream",
     "text": [
      "Set of all students: {'Bob', 'David', 'Eve', 'Alice', 'Charlie'}\n",
      "Intersection of students present across all subjects: {'Charlie'}\n"
     ]
    }
   ],
   "execution_count": 11
  },
  {
   "metadata": {},
   "cell_type": "markdown",
   "source": [
    "### Question 4\n",
    "Implement a Python function to compute the cartesian product of two sets A and B without using Python's built-in functions or libraries like itertools. The function should return the cartesian product as a set of ordered pairs (tuples).\n"
   ],
   "id": "67a6abd8b42fd7c9"
  },
  {
   "metadata": {
    "ExecuteTime": {
     "end_time": "2025-01-28T14:31:35.144441Z",
     "start_time": "2025-01-28T14:31:35.130751Z"
    }
   },
   "cell_type": "code",
   "source": [
    "def cartesian_product(A, B):\n",
    "    result = set()\n",
    "\n",
    "    for element_A in A:\n",
    "        for element_B in B:\n",
    "            result.add((element_A, element_B))\n",
    "    return result\n",
    "\n",
    "A = {1, 4, 5, 7, 8, 10, 13}\n",
    "B = {3, 5, 8, 2, 10, 7, 9, 1}\n",
    "\n",
    "print(cartesian_product(A, B))"
   ],
   "id": "d9afdb3ad2dc525",
   "outputs": [
    {
     "name": "stdout",
     "output_type": "stream",
     "text": [
      "{(4, 3), (4, 9), (5, 1), (5, 7), (5, 10), (8, 3), (8, 9), (10, 3), (10, 9), (13, 2), (1, 3), (1, 9), (13, 5), (13, 8), (7, 1), (7, 7), (7, 10), (4, 2), (4, 5), (4, 8), (5, 3), (5, 9), (8, 2), (8, 5), (10, 2), (8, 8), (10, 5), (1, 2), (10, 8), (1, 5), (13, 1), (13, 7), (1, 8), (13, 10), (7, 3), (7, 9), (4, 1), (4, 7), (5, 2), (4, 10), (5, 5), (5, 8), (8, 1), (8, 7), (1, 1), (8, 10), (10, 1), (10, 7), (10, 10), (1, 7), (13, 3), (13, 9), (1, 10), (7, 2), (7, 5), (7, 8)}\n"
     ]
    }
   ],
   "execution_count": 5
  }
 ],
 "metadata": {
  "kernelspec": {
   "display_name": "Python 3",
   "language": "python",
   "name": "python3"
  },
  "language_info": {
   "codemirror_mode": {
    "name": "ipython",
    "version": 2
   },
   "file_extension": ".py",
   "mimetype": "text/x-python",
   "name": "python",
   "nbconvert_exporter": "python",
   "pygments_lexer": "ipython2",
   "version": "2.7.6"
  }
 },
 "nbformat": 4,
 "nbformat_minor": 5
}
